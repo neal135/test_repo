{
  "cells": [
    {
      "cell_type": "markdown",
      "metadata": {
        "id": "NPaqn1ln-C0w"
      },
      "source": [
        "# **Errors**"
      ]
    },
    {
      "cell_type": "markdown",
      "metadata": {
        "id": "m4rj3T4t-C00"
      },
      "source": [
        "## **Introduction to Bugs**\n",
        "\n",
        "*“[First actual case of bug being found.](https://raw.githubusercontent.com/Codecademy/learn-python/main/2-control-flow/art/first-bug.jpg)“*\n",
        "\n",
        "The story goes that on September 9th, 1947, computer scientist [Grace Hopper](https://en.wikipedia.org/wiki/Grace_Hopper) found a moth in the Harvard Mark II computer’s logbook and reported the world’s first literal computer bug. However, the term “bug,” in the sense of technical error, dates back at least to 1878 and with Thomas Edison.\n",
        "\n",
        "Python refers to the mistakes within the program as *errors* and will point to the location where an error occurred with a `^` character. When programs throw errors that we didn’t expect to encounter, we call those errors *bugs*. Programmers call the process of updating the program so that it no longer produces bugs *debugging*.\n",
        "\n",
        "During your programming journey, you are destined to encounter innumerable red errors. Some even say that 75% of development time is spent on debugging. But what makes a programmer successful isn’t avoiding errors, it’s knowing how to solve them. And a good place to start is understanding what they are.\n",
        "\n",
        "In Python, there are many different ways of classifying errors, but here are some common ones:\n",
        "\n",
        "- `SyntaxError`: Error caused by not following the proper structure (syntax) of the language.\n",
        "- `NameError`: Errors reported when the interpreter detects a variable that is unknown.\n",
        "- `TypeError`: Errors thrown when an operation is applied to an object of an inappropriate type.\n",
        "\n",
        "In this mini-lesson, we will be looking at these different error messages, and you’ll get some practice by debugging them one by one!\n",
        "\n",
        "![Untitled](https://s3-us-west-2.amazonaws.com/secure.notion-static.com/c663fba7-cf36-4a64-a419-4744c571546c/Untitled.png)"
      ]
    },
    {
      "cell_type": "code",
      "execution_count": null,
      "metadata": {},
      "outputs": [],
      "source": []
    },
    {
      "cell_type": "markdown",
      "metadata": {
        "id": "DaGMoMmV-C01"
      },
      "source": [
        "## **Syntax Errors**\n",
        "\n",
        "When we are writing Python programs, the interpreter is our first line of defense against errors.\n",
        "\n",
        "`SyntaxError` means there is something wrong with the way your program is written — punctuation that does not belong, a command where it is not expected, or a missing parenthesis can all trigger a `SyntaxError`.\n",
        "\n",
        "Here’s an example of a `SyntaxError` error message:\n",
        "\n",
        "```\n",
        "File \"script.py\", line 1\n",
        "  print(Hello world!)\n",
        "                  ^\n",
        "SyntaxError: invalid syntax\n",
        "```\n",
        "\n",
        "The interpreter will tell us where (the file name and line number) it got into trouble and its best guess as to what is wrong.\n",
        "\n",
        "After reading the error message, we can assume that the cause for this error is a lack of quotation marks around `Hello world!`.\n",
        "\n",
        "Some common syntax errors are:\n",
        "\n",
        "- Misspelling a Python keyword.\n",
        "- Missing colon `:`.\n",
        "- Missing closing parenthesis `)`, square bracket `]`, or curly brace `}`.\n",
        "\n",
        "**Instructions**\n",
        "\n",
        "**1.**\n",
        "\n",
        "In **script.py**, your coworker Carolyn wrote a Fortune Cookie program that is supposed to print out a possible fortune based on a random number and an `if`/`elif`/`else` statement.\n",
        "\n",
        "Run the program to check it out.\n",
        "\n",
        "Checkpoint 2 Passed\n",
        "\n",
        "Hint\n",
        "\n",
        "Here’s the pseudocode that they wrote on the whiteboard:\n",
        "\n",
        "```\n",
        "if fortune == 0:\n",
        "  // prints one fortune\n",
        "elif fortune == 1:\n",
        "  // prints another fortune\n",
        "elif fortune == 2:\n",
        "  // prints another fortune\n",
        "elif fortune == 3:\n",
        "  // prints another fortune\n",
        "elif fortune == 4:\n",
        "  // prints another fortune\n",
        "```\n",
        "\n",
        "And `[random.randint(a, b)](https://docs.python.org/3/library/random.html)` basically spits out a random integer *N* such that `a` <= *N* <= `b`.\n",
        "\n",
        "**2.**\n",
        "\n",
        "Oh no, there are three `SyntaxError` errors inside **script.py**!\n",
        "\n",
        "Can you find them all?\n",
        "\n",
        "Checkpoint 3 Passed\n",
        "\n",
        "Hint\n",
        "\n",
        "There will be an error message when the program is run:\n",
        "\n",
        "```\n",
        "File \"script.py\", line 7\n",
        "  if fortune == 0\n",
        "                  ^\n",
        "SyntaxError: invalid syntax\n",
        "```\n",
        "\n",
        "In **script.py**, on line 7, a colon `:` is expected at the end of the `if` condition.\n",
        "\n",
        "Can you find the other two bugs? 🕵️‍♀️\n",
        "\n",
        "**Note:** Usually the error is on the exact line indicated by the interpreter, or the line of code just before it; however, if the problem is incorrectly nested braces, the actual error may be at the beginning of the nested block."
      ]
    },
    {
      "cell_type": "code",
      "execution_count": null,
      "metadata": {
        "colab": {
          "base_uri": "https://localhost:8080/",
          "height": 132
        },
        "id": "6NqDid3B-C03",
        "outputId": "595682b9-5af6-4804-93a3-440d388938bb"
      },
      "outputs": [
        {
          "ename": "SyntaxError",
          "evalue": "ignored",
          "output_type": "error",
          "traceback": [
            "\u001b[0;36m  File \u001b[0;32m\"<ipython-input-1-99c7cb1eaf16>\"\u001b[0;36m, line \u001b[0;32m7\u001b[0m\n\u001b[0;31m    if fortune == 0\u001b[0m\n\u001b[0m                   ^\u001b[0m\n\u001b[0;31mSyntaxError\u001b[0m\u001b[0;31m:\u001b[0m invalid syntax\n"
          ]
        }
      ],
      "source": [
        "# Fortune Cookie Program 🥠\n",
        "\n",
        "import random\n",
        "\n",
        "fortune = random.randint(0, 4)\n",
        "\n",
        "if fortune == 0\n",
        "  print(\"May you one day be carbon neutral\")\n",
        "elif fortune == 1:\n",
        "  print(\"You have rice in your teeth\")\n",
        "eli fortune == 2:\n",
        "  print(\"No snowflake feels responsible for an avalanche\")\n",
        "elif fortune == 3:\n",
        "  print(\"You can only connect the dots looking backwards\"\n",
        "elif fortune == 4:\n",
        "  print(\"The fortune you seek is in another cookie\")"
      ]
    },
    {
      "cell_type": "markdown",
      "metadata": {
        "id": "oV9oc2FF-C04"
      },
      "source": [
        "## **Name Errors**\n",
        "\n",
        "A `NameError` is reported by the Python interpreter when it detects a variable that is unknown.\n",
        "\n",
        "This can occur if a variable is used before it has been assigned a value or if a variable name is spelled differently than the point at which it was defined. The Python interpreter will display the line of code where the `NameError` was detected and indicate which name is found that was not defined.\n",
        "\n",
        "Here’s an example of a `NameError` error message:\n",
        "\n",
        "```\n",
        "File \"script.py\", line 1, in <module>\n",
        "    print(score)\n",
        "NameError: name 'score' is not defined\n",
        "```\n",
        "\n",
        "This error is suggesting that the variable `score` was never defined in the program. Oops.\n",
        "\n",
        "Some common name errors are:\n",
        "\n",
        "- Misspelling a variable name.\n",
        "- Forgetting to define a variable.\n",
        "\n",
        "**Instructions**\n",
        "\n",
        "**1.**\n",
        "\n",
        "In **script.py**, another teammate Alex wrote a [Who Wants to Be A Millionaire](https://youtu.be/_tmkOI6bWKs) question and four options. If the answer is an uppercase or lowercase “A”, then the score goes up.\n",
        "\n",
        "Run the program to check it out.\n",
        "\n",
        "Hint\n",
        "\n",
        "In case you were wondering, the `\\n` escape sequence simply prints a new line in the terminal.\n",
        "\n",
        "**2.**\n",
        "\n",
        "Oh no, there are two `NameError` errors!\n",
        "\n",
        "Can you find them both?\n",
        "\n",
        "Hint\n",
        "\n",
        "There will be an error message when the program is run:\n",
        "\n",
        "```\n",
        "Traceback (most recent call last):\n",
        "  File \"script.py\", line 13, in <module>\n",
        "    print(\"C.\", option3)\n",
        "NameError: name 'option3' is not defined\n",
        "```\n",
        "\n",
        "In **script.py**, on line 13, a variable `option3` is not defined.\n",
        "\n",
        "Can you find the other bug? 🐛\n",
        "\n",
        "**Note:** Usually the error is on the exact line indicated by the interpreter, or the line of code just before it; however, if the problem is incorrectly nested braces, the actual error may be at the beginning of the nested block."
      ]
    },
    {
      "cell_type": "code",
      "execution_count": null,
      "metadata": {
        "colab": {
          "base_uri": "https://localhost:8080/",
          "height": 306
        },
        "id": "r1qWMfRp-C05",
        "outputId": "8c808922-b6aa-48f3-8732-bf42cf557971"
      },
      "outputs": [
        {
          "name": "stdout",
          "output_type": "stream",
          "text": [
            "For ordering his favorite beverages on demand, LBJ had four buttons installed in the Oval Office labeled 'Coffee', 'Tea', 'Coke', and what?\n",
            "\n",
            "A. Fresca\n",
            "B. V8\n"
          ]
        },
        {
          "ename": "NameError",
          "evalue": "ignored",
          "output_type": "error",
          "traceback": [
            "\u001b[0;31m---------------------------------------------------------------------------\u001b[0m",
            "\u001b[0;31mNameError\u001b[0m                                 Traceback (most recent call last)",
            "\u001b[0;32m<ipython-input-2-91c097bd8af8>\u001b[0m in \u001b[0;36m<cell line: 13>\u001b[0;34m()\u001b[0m\n\u001b[1;32m     11\u001b[0m \u001b[0mprint\u001b[0m\u001b[0;34m(\u001b[0m\u001b[0;34m\"A.\"\u001b[0m\u001b[0;34m,\u001b[0m \u001b[0moption1\u001b[0m\u001b[0;34m)\u001b[0m\u001b[0;34m\u001b[0m\u001b[0;34m\u001b[0m\u001b[0m\n\u001b[1;32m     12\u001b[0m \u001b[0mprint\u001b[0m\u001b[0;34m(\u001b[0m\u001b[0;34m\"B.\"\u001b[0m\u001b[0;34m,\u001b[0m \u001b[0moption2\u001b[0m\u001b[0;34m)\u001b[0m\u001b[0;34m\u001b[0m\u001b[0;34m\u001b[0m\u001b[0m\n\u001b[0;32m---> 13\u001b[0;31m \u001b[0mprint\u001b[0m\u001b[0;34m(\u001b[0m\u001b[0;34m\"C.\"\u001b[0m\u001b[0;34m,\u001b[0m \u001b[0moption3\u001b[0m\u001b[0;34m)\u001b[0m\u001b[0;34m\u001b[0m\u001b[0;34m\u001b[0m\u001b[0m\n\u001b[0m\u001b[1;32m     14\u001b[0m \u001b[0mprint\u001b[0m\u001b[0;34m(\u001b[0m\u001b[0;34m\"D.\"\u001b[0m\u001b[0;34m,\u001b[0m \u001b[0moption4\u001b[0m\u001b[0;34m)\u001b[0m\u001b[0;34m\u001b[0m\u001b[0;34m\u001b[0m\u001b[0m\n\u001b[1;32m     15\u001b[0m \u001b[0;34m\u001b[0m\u001b[0m\n",
            "\u001b[0;31mNameError\u001b[0m: name 'option3' is not defined"
          ]
        }
      ],
      "source": [
        "# Who Wants To Be A Millionaire 💰\n",
        "\n",
        "score = 0\n",
        "\n",
        "option1 = 'Fresca'\n",
        "option2 = 'V8'\n",
        "option4 = 'A&W'\n",
        "\n",
        "print(\"For ordering his favorite beverages on demand, LBJ had four buttons installed in the Oval Office labeled 'Coffee', 'Tea', 'Coke', and what?\\n\")\n",
        "\n",
        "print(\"A.\", option1)\n",
        "print(\"B.\", option2)\n",
        "print(\"C.\", option3)\n",
        "print(\"D.\", option4)\n",
        "\n",
        "answer = 'a'\n",
        "\n",
        "if answer == 'A' or answer == 'a':\n",
        "  scor += 100\n",
        "  print(\"\\nCorrect!\")\n",
        "else:\n",
        "  print(\"\\nNope, sorry!\")"
      ]
    },
    {
      "cell_type": "markdown",
      "metadata": {
        "id": "Z-uDPrn1-C05"
      },
      "source": [
        "## **Type Errors**\n",
        "\n",
        "A `TypeError` is reported by the Python interpreter when an operation is applied to a variable of an inappropriate type.\n",
        "\n",
        "This can occur in Python when one attempts to use an operator on something of the incorrect type.\n",
        "\n",
        "For example, let’s see what happens when we try and add together two incompatible types:\n",
        "\n",
        "```\n",
        "piggy_bank = '2' + 0.25\n",
        "\n",
        "```\n",
        "\n",
        "There will be an `TypeError` error message:\n",
        "\n",
        "```\n",
        "Traceback (most recent call last):\n",
        "  File \"script.py\", line 1, in <module>\n",
        "    piggy_bank = '2' + 0.25\n",
        "TypeError: must be str, not float\n",
        "```\n",
        "\n",
        "This error is reporting that `0.25` is not a string.\n",
        "\n",
        "Some common type errors are:\n",
        "\n",
        "- Accidentally adding or subtracting a string value.\n",
        "- Call a function on something of the incorrect type.\n",
        "\n",
        "**Instructions**\n",
        "\n",
        "**1.**\n",
        "\n",
        "The word got out in the office that you are a pro bug catcher!\n",
        "\n",
        "Another peer Alisha pops out of the blue and hands you a program that calculates the area of a triangle, a rectangle, and a circle.\n",
        "\n",
        "Run the program to check it out.\n",
        "\n",
        "Hint\n",
        "\n",
        "Triangle area:\n",
        "\n",
        "```\n",
        "����=12⋅����⋅ℎ���ℎ�area=21⋅base⋅height\n",
        "\n",
        "```\n",
        "\n",
        "Rectangle area:\n",
        "\n",
        "```\n",
        "����=�����ℎ⋅����ℎarea=length⋅width\n",
        "\n",
        "```\n",
        "\n",
        "Circle area:\n",
        "\n",
        "```\n",
        "����=��2area=πr2\n",
        "\n",
        "```\n",
        "\n",
        "**2.**\n",
        "\n",
        "Oh no, there’s one `TypeError` error!\n",
        "\n",
        "Can you find it?\n",
        "\n",
        "Hint\n",
        "\n",
        "Anything interesting about one of the `print()` statements?"
      ]
    },
    {
      "cell_type": "code",
      "execution_count": null,
      "metadata": {
        "colab": {
          "base_uri": "https://localhost:8080/",
          "height": 254
        },
        "id": "Aa3AVAj--C06",
        "outputId": "36f0664b-3d65-45c8-f3a1-23180c83f143"
      },
      "outputs": [
        {
          "name": "stdout",
          "output_type": "stream",
          "text": [
            "The triangle area is 300.0\n"
          ]
        },
        {
          "ename": "TypeError",
          "evalue": "ignored",
          "output_type": "error",
          "traceback": [
            "\u001b[0;31m---------------------------------------------------------------------------\u001b[0m",
            "\u001b[0;31mTypeError\u001b[0m                                 Traceback (most recent call last)",
            "\u001b[0;32m<ipython-input-3-a43d73404a6e>\u001b[0m in \u001b[0;36m<cell line: 15>\u001b[0;34m()\u001b[0m\n\u001b[1;32m     13\u001b[0m \u001b[0marea\u001b[0m \u001b[0;34m=\u001b[0m \u001b[0mlength\u001b[0m \u001b[0;34m*\u001b[0m \u001b[0mwidth\u001b[0m\u001b[0;34m\u001b[0m\u001b[0;34m\u001b[0m\u001b[0m\n\u001b[1;32m     14\u001b[0m \u001b[0;34m\u001b[0m\u001b[0m\n\u001b[0;32m---> 15\u001b[0;31m \u001b[0mprint\u001b[0m\u001b[0;34m(\u001b[0m\u001b[0;34m\"The rectangle area is\"\u001b[0m \u001b[0;34m+\u001b[0m \u001b[0marea\u001b[0m \u001b[0;34m)\u001b[0m\u001b[0;34m\u001b[0m\u001b[0;34m\u001b[0m\u001b[0m\n\u001b[0m\u001b[1;32m     16\u001b[0m \u001b[0;34m\u001b[0m\u001b[0m\n\u001b[1;32m     17\u001b[0m \u001b[0mradius\u001b[0m \u001b[0;34m=\u001b[0m \u001b[0;36m36\u001b[0m\u001b[0;34m\u001b[0m\u001b[0;34m\u001b[0m\u001b[0m\n",
            "\u001b[0;31mTypeError\u001b[0m: can only concatenate str (not \"int\") to str"
          ]
        }
      ],
      "source": [
        "# Area Calculator 📏\n",
        "\n",
        "import math\n",
        "\n",
        "base = 20\n",
        "height = 30\n",
        "area = base * height / 2\n",
        "\n",
        "print(\"The triangle area is\", area)\n",
        "\n",
        "length = 2\n",
        "width = 12\n",
        "area = length * width\n",
        "\n",
        "print(\"The rectangle area is\" + area )\n",
        "\n",
        "radius = 36\n",
        "area = math.pi * radius * radius\n",
        "\n",
        "print(\"The circle area is\", area)"
      ]
    },
    {
      "cell_type": "markdown",
      "metadata": {
        "id": "vHbAJB9N-C07"
      },
      "source": [
        "## **Review**\n",
        "\n",
        "Finding bugs is a huge part of a programmer’s life. Don’t be intimidated by them! In fact, errors in your code mean you’re trying to do something cool.\n",
        "\n",
        "In this lesson, we have learned about the three types of Python errors:\n",
        "\n",
        "- `SyntaxError`: Error caused by not following the proper structure (syntax) of the language.\n",
        "- `NameError`: Errors reported when the interpreter detects an object that is unknown.\n",
        "- `TypeError`: Errors thrown when an operation is applied to an object of an inappropriate type.\n",
        "\n",
        "There is also another type of error that doesn’t have error messages that we will cover down the line:\n",
        "\n",
        "- Logic errors: Errors found by the programmer when the program isn’t doing what it is intending to do.\n",
        "\n",
        "Remember, [Google](https://google.com/) and [Stack Overflow](https://stackoverflow.com/) are a programmer’s BFFs (best friends forever) in situations where an error is giving you a lot of trouble. For some more motivation, check out this [blog post](https://news.codecademy.com/errors-in-code-think-differently/).\n",
        "\n",
        "We wish you the best of luck in your bug-squashing journey! 🔎"
      ]
    }
  ],
  "metadata": {
    "colab": {
      "provenance": []
    },
    "gpuClass": "standard",
    "kernelspec": {
      "display_name": "Python 3",
      "name": "python3"
    },
    "language_info": {
      "name": "python",
      "version": "3.9.17"
    },
    "orig_nbformat": 4
  },
  "nbformat": 4,
  "nbformat_minor": 0
}
